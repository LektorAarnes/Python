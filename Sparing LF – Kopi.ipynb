{
 "cells": [
  {
   "cell_type": "code",
   "execution_count": null,
   "metadata": {
    "scrolled": true
   },
   "outputs": [],
   "source": [
    "rente=2\n",
    "saldo=10000\n",
    "n=10\n",
    "\n",
    "vekstfaktor=1+rente/100\n",
    "\n",
    "for i in range(n):\n",
    "    saldo=saldo*vekstfaktor\n",
    "    print(saldo)"
   ]
  },
  {
   "cell_type": "markdown",
   "metadata": {},
   "source": [
    "Bytt rekkefølgen på linje 8 og 9. Hva endrer seg når du kjører programmet? Endre det tilbake igjen.\n"
   ]
  },
  {
   "cell_type": "code",
   "execution_count": null,
   "metadata": {},
   "outputs": [],
   "source": [
    "rente=2\n",
    "saldo=10000\n",
    "n=10\n",
    "\n",
    "vekstfaktor=1+rente/100\n",
    "\n",
    "for i in range(n):\n",
    "    print(saldo)\n",
    "    saldo=saldo*vekstfaktor"
   ]
  },
  {
   "cell_type": "markdown",
   "metadata": {},
   "source": [
    " Endre det tilbake igjen."
   ]
  },
  {
   "cell_type": "code",
   "execution_count": null,
   "metadata": {},
   "outputs": [],
   "source": [
    "rente=2\n",
    "saldo=10000\n",
    "n=10\n",
    "\n",
    "vekstfaktor=1+rente/100\n",
    "\n",
    "for i in range(n):\n",
    "    saldo=saldo*vekstfaktor\n",
    "    print(saldo)"
   ]
  },
  {
   "cell_type": "markdown",
   "metadata": {},
   "source": [
    "Ta bort innrykkene foran print(saldo). Hva endrer seg nå? Hvorfor står linje 8 og 9 med innrykk foran?"
   ]
  },
  {
   "cell_type": "code",
   "execution_count": null,
   "metadata": {},
   "outputs": [],
   "source": [
    "rente=2\n",
    "saldo=10000\n",
    "n=10\n",
    "\n",
    "vekstfaktor=1+rente/100\n",
    "\n",
    "for i in range(n):\n",
    "    saldo=saldo*vekstfaktor\n",
    "print(saldo)"
   ]
  },
  {
   "cell_type": "markdown",
   "metadata": {},
   "source": [
    "Innrykk markerer hva som er med i ei løkke."
   ]
  },
  {
   "cell_type": "code",
   "execution_count": null,
   "metadata": {},
   "outputs": [],
   "source": [
    "rente=2\n",
    "saldo=10000\n",
    "n=10\n",
    "\n",
    "vekstfaktor=1+rente/100\n",
    "\n",
    "for teller in range(n):\n",
    "    saldo=saldo*vekstfaktor\n",
    "    print(teller,saldo)"
   ]
  },
  {
   "cell_type": "markdown",
   "metadata": {},
   "source": [
    "i er telleren i løkka. "
   ]
  },
  {
   "cell_type": "markdown",
   "metadata": {},
   "source": [
    "Finn ut hvor mye du har etter 10 år hvis renta er 4%.\n"
   ]
  },
  {
   "cell_type": "code",
   "execution_count": null,
   "metadata": {},
   "outputs": [],
   "source": [
    "rente=4\n",
    "saldo=10000\n",
    "n=10\n",
    "\n",
    "vekstfaktor=1+rente/100\n",
    "\n",
    "for teller in range(n):\n",
    "    saldo=saldo*vekstfaktor\n",
    "print('Etter', n, 'år har jeg',saldo, 'kr')"
   ]
  },
  {
   "cell_type": "markdown",
   "metadata": {},
   "source": [
    "Finn ut hvor mye du har etter 15 år om renta er 1,5%\n"
   ]
  },
  {
   "cell_type": "code",
   "execution_count": null,
   "metadata": {},
   "outputs": [],
   "source": [
    "rente=1.5\n",
    "saldo=10000\n",
    "n=15\n",
    "\n",
    "vekstfaktor=1+rente/100\n",
    "\n",
    "for teller in range(n):\n",
    "    saldo=saldo*vekstfaktor\n",
    "print('Etter', n, 'år med',rente,'% rente har jeg',saldo, 'kr')"
   ]
  },
  {
   "attachments": {},
   "cell_type": "markdown",
   "metadata": {},
   "source": [
    "Utfordring1: Endre koden slik at du ser hvor mye du har i banken etter 10 år dersom du starter med 0 kr og setter inn 2000 kr hvert år i starten av året. Renta er fast på 2,5%."
   ]
  },
  {
   "cell_type": "code",
   "execution_count": null,
   "metadata": {},
   "outputs": [],
   "source": [
    "rente=2.5\n",
    "saldo=0\n",
    "n=10\n",
    "innskudd=2000\n",
    "\n",
    "vekstfaktor=1+rente/100\n",
    "\n",
    "for teller in range(n):\n",
    "    saldo=(innskudd+saldo)*vekstfaktor\n",
    "print('Etter', n, 'år med',rente,'% rente har jeg',saldo, 'kr')"
   ]
  },
  {
   "attachments": {},
   "cell_type": "markdown",
   "metadata": {},
   "source": [
    "Utfordring2: Finn ut hvor mange hele år du må ha 10 000kr i banken med en rente på 2% for at de skal vokse til minst 15 000kr. Få programmet til å skrive ut svaret for deg (antall år og beløp). Hint: bruk en while-løkke."
   ]
  },
  {
   "cell_type": "code",
   "execution_count": null,
   "metadata": {},
   "outputs": [],
   "source": [
    "rente=2\n",
    "saldo=10000\n",
    "n=0\n",
    "sluttbelop=15000\n",
    "\n",
    "vekstfaktor=1+rente/100\n",
    "\n",
    "while saldo<sluttbelop:\n",
    "    saldo=saldo*vekstfaktor\n",
    "    n=n+1\n",
    "print('Etter', n, 'år med',rente,'% rente har jeg',saldo, 'kr')"
   ]
  }
 ],
 "metadata": {
  "kernelspec": {
   "display_name": "Python 3",
   "language": "python",
   "name": "python3"
  },
  "language_info": {
   "codemirror_mode": {
    "name": "ipython",
    "version": 3
   },
   "file_extension": ".py",
   "mimetype": "text/x-python",
   "name": "python",
   "nbconvert_exporter": "python",
   "pygments_lexer": "ipython3",
   "version": "3.7.3"
  }
 },
 "nbformat": 4,
 "nbformat_minor": 2
}
